{
 "cells": [
  {
   "cell_type": "markdown",
   "id": "367e27c1-ba49-412e-b1ad-85a9c3a3005d",
   "metadata": {},
   "source": [
    "列表和元组，集合中的数据类型不需要一致；"
   ]
  },
  {
   "cell_type": "code",
   "execution_count": 6,
   "id": "f689f33d-b09a-4612-9564-116485dd0437",
   "metadata": {},
   "outputs": [
    {
     "data": {
      "text/plain": [
       "[1, 2, 'hello', 'world']"
      ]
     },
     "execution_count": 6,
     "metadata": {},
     "output_type": "execute_result"
    }
   ],
   "source": [
    "l = [1, 2, 'hello', 'world'] # 列表中同时含有int和string类型的元素\n",
    "l"
   ]
  },
  {
   "cell_type": "code",
   "execution_count": 7,
   "id": "dc7615a0-2aac-44bc-abd4-7a094755a569",
   "metadata": {},
   "outputs": [
    {
     "data": {
      "text/plain": [
       "('jason', 22)"
      ]
     },
     "execution_count": 7,
     "metadata": {},
     "output_type": "execute_result"
    }
   ],
   "source": [
    "tup = ('jason', 22) # 元组中同时含有int和string类型的元素\n",
    "tup"
   ]
  },
  {
   "cell_type": "markdown",
   "id": "14d74bf0-abb3-4085-aa8c-0601b209def8",
   "metadata": {},
   "source": [
    "列表是动态的，长度大小不固定，可以随意增加、删除、修改元素；\n",
    "元组是静态的，长度大小固定，无法增加、删除、修改元素；"
   ]
  },
  {
   "cell_type": "code",
   "execution_count": 8,
   "id": "2399b216-3a79-4b36-bfa7-9581a65a5514",
   "metadata": {},
   "outputs": [
    {
     "ename": "TypeError",
     "evalue": "'tuple' object does not support item assignment",
     "output_type": "error",
     "traceback": [
      "\u001b[0;31m---------------------------------------------------------------------------\u001b[0m",
      "\u001b[0;31mTypeError\u001b[0m                                 Traceback (most recent call last)",
      "Cell \u001b[0;32mIn[8], line 1\u001b[0m\n\u001b[0;32m----> 1\u001b[0m \u001b[43mtup\u001b[49m\u001b[43m[\u001b[49m\u001b[38;5;241;43m1\u001b[39;49m\u001b[43m]\u001b[49m \u001b[38;5;241m=\u001b[39m \u001b[38;5;241m10\u001b[39m\n",
      "\u001b[0;31mTypeError\u001b[0m: 'tuple' object does not support item assignment"
     ]
    }
   ],
   "source": [
    "tup[1] = 10"
   ]
  },
  {
   "cell_type": "code",
   "execution_count": 13,
   "id": "d4a87d03-a347-4232-b763-2eb824b623c9",
   "metadata": {},
   "outputs": [
    {
     "data": {
      "text/plain": [
       "('jason', 22, 5)"
      ]
     },
     "execution_count": 13,
     "metadata": {},
     "output_type": "execute_result"
    }
   ],
   "source": [
    "newtup = tup + (5,) #为了不同 int 和 tuple，我们在 tuple 的对象后面使用逗号。\n",
    "newtup"
   ]
  },
  {
   "cell_type": "code",
   "execution_count": 14,
   "id": "c96ce799-b721-4981-9597-eda60019be07",
   "metadata": {},
   "outputs": [
    {
     "data": {
      "text/plain": [
       "5"
      ]
     },
     "execution_count": 14,
     "metadata": {},
     "output_type": "execute_result"
    }
   ],
   "source": [
    "newtup[-1]"
   ]
  },
  {
   "cell_type": "code",
   "execution_count": 15,
   "id": "9f300019-6493-46d4-85d0-58fea93f834b",
   "metadata": {},
   "outputs": [
    {
     "data": {
      "text/plain": [
       "'world'"
      ]
     },
     "execution_count": 15,
     "metadata": {},
     "output_type": "execute_result"
    }
   ],
   "source": [
    "l[-1]"
   ]
  },
  {
   "cell_type": "code",
   "execution_count": 16,
   "id": "c01912c8-99af-4bb3-ad71-79ba4bd659e2",
   "metadata": {},
   "outputs": [
    {
     "data": {
      "text/plain": [
       "[1, 2, 'hello', 'world', 10]"
      ]
     },
     "execution_count": 16,
     "metadata": {},
     "output_type": "execute_result"
    }
   ],
   "source": [
    "l.append(10)\n",
    "l"
   ]
  },
  {
   "cell_type": "markdown",
   "id": "7c3733ec-5f08-4187-9f99-59eaef4f7803",
   "metadata": {},
   "source": [
    "列表和元组都支持切片操作；\n",
    "列表和元组可以随意嵌套；\n",
    "可以通过list()和tuple()相互转换；"
   ]
  },
  {
   "cell_type": "code",
   "execution_count": 18,
   "id": "953c2584-1251-44d9-9e7b-19b3dae299d0",
   "metadata": {},
   "outputs": [
    {
     "data": {
      "text/plain": [
       "[(1, 2, 3), (4, 5, 6)]"
      ]
     },
     "execution_count": 18,
     "metadata": {},
     "output_type": "execute_result"
    }
   ],
   "source": [
    "l = [(1,2,3), (4,5,6)]\n",
    "l"
   ]
  },
  {
   "cell_type": "markdown",
   "id": "63a2e3f8-fdd6-411a-bb92-3573ecb18e83",
   "metadata": {},
   "source": [
    "以下为列表和元组的常用内置函数"
   ]
  },
  {
   "cell_type": "code",
   "execution_count": 20,
   "id": "08b29079-175a-4cb8-b91d-a29bd39c1f4c",
   "metadata": {},
   "outputs": [
    {
     "data": {
      "text/plain": [
       "3"
      ]
     },
     "execution_count": 20,
     "metadata": {},
     "output_type": "execute_result"
    }
   ],
   "source": [
    "l = [1,2,3,4,5,3,6,3]\n",
    "l.count(3) # 统计列表或元组中item=3出现的次数"
   ]
  },
  {
   "cell_type": "code",
   "execution_count": 21,
   "id": "7d40bd11-7105-4d89-bc35-a5d7291296c6",
   "metadata": {},
   "outputs": [
    {
     "data": {
      "text/plain": [
       "3"
      ]
     },
     "execution_count": 21,
     "metadata": {},
     "output_type": "execute_result"
    }
   ],
   "source": [
    "l.index(4) # 返回列表/元组中item第一次出现的索引"
   ]
  },
  {
   "cell_type": "code",
   "execution_count": 26,
   "id": "d84c4b04-a3fe-4b4f-bdb4-6ee802a1f5e5",
   "metadata": {},
   "outputs": [
    {
     "data": {
      "text/plain": [
       "[3, 6, 3, 5, 4, 3, 2, 1]"
      ]
     },
     "execution_count": 26,
     "metadata": {},
     "output_type": "execute_result"
    }
   ],
   "source": [
    "l.reverse() # 列表原地反转，元组没有此函数\n",
    "l"
   ]
  },
  {
   "cell_type": "code",
   "execution_count": 27,
   "id": "04752329-e72f-4a16-9178-deaaf5a1c9d2",
   "metadata": {},
   "outputs": [
    {
     "data": {
      "text/plain": [
       "[1, 2, 3, 3, 3, 4, 5, 6]"
      ]
     },
     "execution_count": 27,
     "metadata": {},
     "output_type": "execute_result"
    }
   ],
   "source": [
    "l.sort() # 列表排序，元组没有此函数，可能是因为元组的静态特性\n",
    "l"
   ]
  },
  {
   "cell_type": "code",
   "execution_count": 28,
   "id": "5ceb71e2-b535-4b28-8bd6-228bbbbf16c9",
   "metadata": {},
   "outputs": [
    {
     "data": {
      "text/plain": [
       "<list_reverseiterator at 0x105dc12d0>"
      ]
     },
     "execution_count": 28,
     "metadata": {},
     "output_type": "execute_result"
    }
   ],
   "source": [
    "reversed(l)"
   ]
  },
  {
   "cell_type": "code",
   "execution_count": 1,
   "id": "5f35e992-6210-4f12-a8c8-6305b98b01aa",
   "metadata": {},
   "outputs": [
    {
     "data": {
      "text/plain": [
       "[4, 2, 1]"
      ]
     },
     "execution_count": 1,
     "metadata": {},
     "output_type": "execute_result"
    }
   ],
   "source": [
    "list(reversed((1,2,4)))"
   ]
  },
  {
   "cell_type": "markdown",
   "id": "5f89a9cd-9254-4d73-b70c-722d49cbb6e0",
   "metadata": {},
   "source": [
    "TODO: 列表和元组的内存分配策略？"
   ]
  },
  {
   "cell_type": "markdown",
   "id": "bd1b58dc-578f-4263-a104-2f3904a652b8",
   "metadata": {},
   "source": [
    "列表和元组的区别：\n",
    "他们都是有序的，可以存储任意类型的数据集合，区别在于：\n",
    "1. 列表是动态的，长度可变，可以随意增加、删除、修改元素，列表的存储空间略大于元组，性能略逊于元组；\n",
    "2. 元组是静态的，长度大小固定，不可以对元素增减、修改，元组相对于列表更加轻量级，性能稍优；"
   ]
  },
  {
   "cell_type": "code",
   "execution_count": 3,
   "id": "2c24b9ff-093c-4c6f-af14-4b85312071e1",
   "metadata": {},
   "outputs": [],
   "source": [
    "empty_list = list()\n",
    "empty_list = []\n",
    "\n",
    "# 第一种写法，list()是一个function call，会创建stack，并且进行一系列参数检查的操作，比较昂贵；第二种是哪只的C函数，可以直接调用，效率高"
   ]
  },
  {
   "cell_type": "code",
   "execution_count": null,
   "id": "9f635f10-65f6-4ad0-a245-d27680049188",
   "metadata": {},
   "outputs": [],
   "source": []
  }
 ],
 "metadata": {
  "kernelspec": {
   "display_name": "Python 3 (ipykernel)",
   "language": "python",
   "name": "python3"
  },
  "language_info": {
   "codemirror_mode": {
    "name": "ipython",
    "version": 3
   },
   "file_extension": ".py",
   "mimetype": "text/x-python",
   "name": "python",
   "nbconvert_exporter": "python",
   "pygments_lexer": "ipython3",
   "version": "3.12.2"
  }
 },
 "nbformat": 4,
 "nbformat_minor": 5
}
